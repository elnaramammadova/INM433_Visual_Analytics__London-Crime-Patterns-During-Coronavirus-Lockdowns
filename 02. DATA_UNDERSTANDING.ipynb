{
 "cells": [
  {
   "cell_type": "markdown",
   "id": "b479b58d-1eb4-419d-9cd3-63735f73ee99",
   "metadata": {},
   "source": [
    "# Data Understanding"
   ]
  },
  {
   "cell_type": "markdown",
   "id": "150a4d06-f7c4-4773-b094-d5a59cb370a9",
   "metadata": {},
   "source": [
    "## Import Libraries"
   ]
  },
  {
   "cell_type": "code",
   "execution_count": null,
   "id": "10fa64b7-3ce3-4fb3-b8e5-7bb4881afb59",
   "metadata": {},
   "outputs": [],
   "source": [
    "import pandas as pd\n",
    "import numpy as np\n",
    "from scipy.stats import rankdata\n",
    "\n",
    "import matplotlib as mpl\n",
    "import matplotlib.pyplot as plt\n",
    "import matplotlib.colors as mcolors\n",
    "import seaborn as sns\n",
    "import folium\n",
    "import altair as alt\n",
    "# make your plot outputs appear and be stored within the notebook\n",
    "%matplotlib inline  \n",
    "\n",
    "print('Folium installed')\n",
    "print('Libraries imported.')"
   ]
  },
  {
   "cell_type": "code",
   "execution_count": null,
   "id": "ac0a291d-5786-4ea1-939e-934e04985b33",
   "metadata": {},
   "outputs": [],
   "source": [
    "mpl.rcParams['axes.labelsize'] = 12\n",
    "mpl.rcParams['axes.titlesize'] = 14\n",
    "mpl.rcParams['figure.titlesize'] = 16\n",
    "\n",
    "pd.set_option('display.max_columns', 500)"
   ]
  },
  {
   "cell_type": "markdown",
   "id": "cffefc03-eeeb-481a-8007-4a194effa1cf",
   "metadata": {},
   "source": [
    "## Import Data"
   ]
  },
  {
   "cell_type": "code",
   "execution_count": null,
   "id": "dcfe4c60-8eb0-41dc-ae3d-913c3c7a08b3",
   "metadata": {},
   "outputs": [],
   "source": [
    "mps_colp = pd.read_csv('data/new_data/mps_colp.csv')\n",
    "mps_colp.info()"
   ]
  },
  {
   "cell_type": "code",
   "execution_count": null,
   "id": "4ca2f5e0-2eb7-45db-b064-1f6068d0385e",
   "metadata": {},
   "outputs": [],
   "source": [
    "mps_colp['Month'] = pd.to_datetime(mps_colp['Month'], format='%Y-%m').dt.strftime('%Y-%m')\n",
    "mps_colp['Month'].unique()"
   ]
  },
  {
   "cell_type": "raw",
   "id": "78d90dc0-4e6b-4161-a25d-607c1ae8dd1f",
   "metadata": {},
   "source": [
    "mps_colp['Month_count'] = mps_colp['Month']\n",
    "\n",
    "i=0\n",
    "for m in mps_colp['Month_count'].unique():\n",
    "    i=i+1\n",
    "    mps_colp = mps_colp.replace({'Month_count': {m: i}})"
   ]
  },
  {
   "cell_type": "raw",
   "id": "9786a9fa-a6a2-4db1-8a53-8934ee393608",
   "metadata": {},
   "source": [
    "mps_colp['Month_count'].unique()"
   ]
  },
  {
   "cell_type": "code",
   "execution_count": null,
   "id": "b35924a5-c99b-4884-a83b-e487ffec93a6",
   "metadata": {},
   "outputs": [],
   "source": [
    "mps_colp[['Falls within', 'LSOA code', 'LSOA name', 'Crime type', 'Location', 'Borough']] = \\\n",
    "mps_colp[['Falls within', 'LSOA code', 'LSOA name', 'Crime type', 'Location', 'Borough']].astype((pd.StringDtype()))"
   ]
  },
  {
   "cell_type": "code",
   "execution_count": null,
   "id": "9d71a2cc-d6ac-4d3e-bae5-adbf59780846",
   "metadata": {},
   "outputs": [],
   "source": [
    "# mps_colp['Month'] = mps_colp['Month'].values.astype('datetime64[M]')"
   ]
  },
  {
   "cell_type": "code",
   "execution_count": null,
   "id": "454eb0d6-2a57-4535-af6b-b243a32524ad",
   "metadata": {},
   "outputs": [],
   "source": [
    "mps_colp.info(null_counts=True)"
   ]
  },
  {
   "cell_type": "raw",
   "id": "eecb0bac-1ff3-4879-b105-f2bd95387599",
   "metadata": {},
   "source": [
    "from mpl_toolkits.mplot3d import Axes3D\n",
    "fig = plt.figure(1, figsize=(9, 6))\n",
    "\n",
    "ax = Axes3D(fig, rect=[0, 0, .95, 1], elev=25, azim=-115) # change parameters here for looking from a different perspective\n",
    "ax.scatter(mps_colp['Longitude'], mps_colp['Latitude'], mps_colp['Month_count'], alpha=0.1)\n",
    "plt.show(block=False)"
   ]
  },
  {
   "cell_type": "code",
   "execution_count": null,
   "id": "03e70538-1d80-4dd8-bb10-38383c4915da",
   "metadata": {},
   "outputs": [],
   "source": [
    "# reshape the dataframe for crime analysis\n",
    "crime = mps_colp.groupby(['LSOA code', 'LSOA name', 'Borough','Crime type', 'Month']).size().unstack().reset_index(drop=False).fillna(0)\n",
    "# add Total column to MPS data\n",
    "crime['Total'] = crime.sum(axis=1, numeric_only=True)\n",
    "# delete index name\n",
    "crime.columns.name = None\n",
    "crime.head(2)"
   ]
  },
  {
   "cell_type": "code",
   "execution_count": null,
   "id": "9a04c2f6-880d-4f4b-a2ca-0bea8aacddc0",
   "metadata": {},
   "outputs": [],
   "source": [
    "crime.to_csv('data/new_data/crime_table.csv', index=False)"
   ]
  },
  {
   "cell_type": "markdown",
   "id": "3a3c13a4-86ca-46cd-a177-f942c0e7fe92",
   "metadata": {
    "tags": []
   },
   "source": [
    "### BoxPlots"
   ]
  },
  {
   "cell_type": "markdown",
   "id": "c21b3d6f-2576-4528-88f4-dcdc1d5de18e",
   "metadata": {
    "tags": []
   },
   "source": [
    "#### Crimes per Borough"
   ]
  },
  {
   "cell_type": "markdown",
   "id": "9602a9de-4c95-4b81-b899-44a4e0b87172",
   "metadata": {
    "tags": []
   },
   "source": [
    "<i> Compute the number of crimes per Month and per Borough: </i>"
   ]
  },
  {
   "cell_type": "code",
   "execution_count": null,
   "id": "62341134-f336-4828-a006-4c63db568b6a",
   "metadata": {
    "tags": []
   },
   "outputs": [],
   "source": [
    "borough_crimes_all = mps_colp.copy()\n",
    "borough_crimes_all[\"Number of Crimes\"] = borough_crimes_all.groupby([\"Borough\", 'Crime type', \"Month\"])[\"Month\"].transform(\"size\") \n",
    "# borough_crimes_all['Month'] = pd.to_datetime(borough_crimes_all['Month'])\n",
    "borough_crimes_all.head()\n",
    "\n"
   ]
  },
  {
   "cell_type": "markdown",
   "id": "0b7a2a19-7a65-43e7-b981-aeb55c729261",
   "metadata": {},
   "source": [
    "<i> Pivot table for number of crimes per Month and Borough</i>"
   ]
  },
  {
   "cell_type": "code",
   "execution_count": null,
   "id": "91b9b18d-e1b7-47f6-8724-923f8e59b605",
   "metadata": {
    "tags": []
   },
   "outputs": [],
   "source": [
    "borough_crimes_pivoted = pd.pivot_table(\n",
    "    borough_crimes_all, index=[\"Borough\", 'Crime type'], values=\"Number of Crimes\", columns=\"Month\"\n",
    ").dropna().reset_index()\n",
    "borough_crimes_pivoted.head(2)"
   ]
  },
  {
   "cell_type": "markdown",
   "id": "6edb5cd8-2a5b-46a5-856c-737c45914996",
   "metadata": {},
   "source": [
    "<i> Manipulate data frame to keep only Borough, Number of Crimes and Month </i>"
   ]
  },
  {
   "cell_type": "code",
   "execution_count": null,
   "id": "118894a4-3115-458e-b52f-95bdecd93eae",
   "metadata": {},
   "outputs": [],
   "source": [
    "borough_crimes = pd.melt(borough_crimes_pivoted, id_vars = [\"Borough\", 'Crime type'], value_name=\"Number of Crimes\")\n",
    "borough_crimes.head()"
   ]
  },
  {
   "cell_type": "code",
   "execution_count": null,
   "id": "8865ee5c-d2c7-4b6c-a447-adf8bd00a393",
   "metadata": {
    "tags": []
   },
   "outputs": [],
   "source": [
    "borough_crimes[['Borough', 'Crime type']] = borough_crimes[['Borough','Crime type']].astype((pd.StringDtype()))\n",
    "borough_crimes.info()"
   ]
  },
  {
   "cell_type": "code",
   "execution_count": null,
   "id": "91f3ff46-43e6-47e8-aaf4-c8269e56d6c8",
   "metadata": {},
   "outputs": [],
   "source": [
    "borough_crimes.to_csv('data/new_data/crimes_by_borough.csv', index=False)"
   ]
  },
  {
   "cell_type": "code",
   "execution_count": null,
   "id": "e26bf7cb-2b19-48b5-9228-e9086edd65a6",
   "metadata": {
    "tags": []
   },
   "outputs": [],
   "source": [
    "# disable the max rows that altair has by default\n",
    "alt.data_transformers.disable_max_rows()\n",
    "\n",
    "alt.Chart(borough_crimes).mark_boxplot().encode(\n",
    "    x='Month:T',\n",
    "    y='Number of Crimes:Q',\n",
    ")"
   ]
  },
  {
   "cell_type": "code",
   "execution_count": null,
   "id": "300f51ba-9a66-4b1b-b533-bcc4e30ec9b3",
   "metadata": {
    "tags": []
   },
   "outputs": [],
   "source": [
    "alt.Chart(borough_crimes).mark_boxplot().encode(\n",
    "    x='Number of Crimes:Q',\n",
    "    y='Borough:N',\n",
    ")"
   ]
  },
  {
   "cell_type": "code",
   "execution_count": null,
   "id": "eb64fea8-7832-424b-aef2-5dd4b5e85afe",
   "metadata": {},
   "outputs": [],
   "source": [
    "borough_crimes.head()"
   ]
  },
  {
   "cell_type": "code",
   "execution_count": null,
   "id": "7b6f67bf-70c3-44cd-98c7-178b9e287a36",
   "metadata": {
    "tags": []
   },
   "outputs": [],
   "source": [
    "plt.figure(figsize=(15, 35))\n",
    "\n",
    "for index, borough in enumerate(borough_crimes['Borough'].unique()):\n",
    "    plt.subplot(11, 3, index + 1)\n",
    "\n",
    "    plt.plot(borough_crimes[borough_crimes['Borough'] == borough]['Month'], borough_crimes[borough_crimes['Borough'] == borough]['Number of Crimes'])\n",
    "    # plt.xticks(ticks=range(9), labels=range(2019, 2021))\n",
    "    plt.grid()\n",
    "    plt.title('{}'.format(borough))\n",
    "    plt.xlabel('Month')\n",
    "    plt.ylabel('# of Crimes')\n",
    "    plt.xticks(rotation=90)\n",
    "\n",
    "plt.suptitle('Crimes per Months', fontsize=16)\n",
    "plt.tight_layout(rect=[0, 0.03, 1, 0.95])"
   ]
  },
  {
   "cell_type": "code",
   "execution_count": null,
   "id": "369afee8-e390-4f30-ad29-6161aefea8f6",
   "metadata": {},
   "outputs": [],
   "source": [
    "crimes_per_boroughs = pd.crosstab(mps_colp['Month'], mps_colp['Borough'])\n",
    "plt.figure(figsize=(15,7))\n",
    "chart = sns.lineplot(\n",
    "    data=crimes_per_boroughs,\n",
    ")\n",
    "plt.xticks(\n",
    "    rotation=90, \n",
    "    horizontalalignment='right',\n",
    "    fontweight='light',\n",
    "    fontsize='x-large'  \n",
    ")\n",
    "plt.legend(bbox_to_anchor=(1.02, 1), loc='upper left', borderaxespad=0)"
   ]
  },
  {
   "cell_type": "markdown",
   "id": "dc1d9421-6750-454d-864f-260e1e724e16",
   "metadata": {
    "tags": []
   },
   "source": [
    "#### Crime type per month"
   ]
  },
  {
   "cell_type": "code",
   "execution_count": null,
   "id": "35fee42a-a314-4f4f-af46-d0e6a37cbbe5",
   "metadata": {},
   "outputs": [],
   "source": [
    "# Compute the number of crimes per Month and per Crime type:\n",
    "crime_month_all = mps_colp.copy()\n",
    "crime_month_all[\"Number of Crimes\"] = crime_month_all.groupby([\"Crime type\", \"Month\"])[\"Crime type\"].transform(\"size\") \n",
    "# Pivot table for number of crimes per Month and Crime type:\n",
    "crimes_month_pivoted = pd.pivot_table(\n",
    "    crime_month_all, index=\"Crime type\", values=\"Number of Crimes\", columns=\"Month\"\n",
    ").dropna().reset_index()\n",
    "# Manipulate data frame to keep only Crime type, Number of Crimes and Month\n",
    "crimes_by_month = pd.melt(crimes_month_pivoted, id_vars = \"Crime type\", value_name=\"Number of Crimes\", var_name=\"Month\")\n",
    "crimes_by_month['Crime type'] = crimes_by_month['Crime type'].astype((pd.StringDtype()))\n",
    "crimes_by_month.info()"
   ]
  },
  {
   "cell_type": "code",
   "execution_count": null,
   "id": "6dfb1a48-a941-46eb-821d-c9c93800cbb7",
   "metadata": {},
   "outputs": [],
   "source": [
    "crimes_by_month.to_csv('data/new_data/crime_by_month.csv', index=False)"
   ]
  },
  {
   "cell_type": "raw",
   "id": "fd9e6756-695f-453e-87b2-bce7c5469dbf",
   "metadata": {
    "jupyter": {
     "outputs_hidden": true
    },
    "tags": []
   },
   "source": [
    "# disable the max rows that altair has by default\n",
    "alt.Chart(crimes_by_month).mark_boxplot().encode(\n",
    "    x='Number of Crimes:Q',\n",
    "    y='Crime type:N',\n",
    ")"
   ]
  },
  {
   "cell_type": "code",
   "execution_count": null,
   "id": "17903a5d-43d9-40cf-acc1-272ffa9f0538",
   "metadata": {},
   "outputs": [],
   "source": [
    "crimes_by_month.head()"
   ]
  },
  {
   "cell_type": "code",
   "execution_count": null,
   "id": "e06ddce4-660c-411b-b09a-9dff217384d5",
   "metadata": {},
   "outputs": [],
   "source": [
    "plt.figure(figsize=(15, 15))\n",
    "\n",
    "for index, crimetype in enumerate(crimes_by_month['Crime type'].unique()):\n",
    "    plt.subplot(5, 3, index + 1)\n",
    "    plt.plot(crimes_by_month[crimes_by_month['Crime type'] == crimetype]['Month'], crimes_by_month[crimes_by_month['Crime type'] == crimetype]['Number of Crimes'])\n",
    "    # plt.xticks(ticks=range(9), labels=range(2019, 2021))\n",
    "    plt.grid()\n",
    "    plt.title('{}'.format(crimetype))\n",
    "    plt.xlabel('Month')\n",
    "    plt.ylabel('# of Crimes')\n",
    "    plt.xticks(rotation=90)\n",
    "\n",
    "plt.suptitle('Crime types per Months', fontsize=16)\n",
    "plt.tight_layout(rect=[0, 0.03, 1, 0.95])\n",
    "\n"
   ]
  },
  {
   "cell_type": "code",
   "execution_count": null,
   "id": "3a9174ff-1759-4848-ae09-062dd359fc37",
   "metadata": {},
   "outputs": [],
   "source": [
    "crime_type_per_month = pd.crosstab(mps_colp['Month'], mps_colp['Crime type'])\n",
    "plt.figure(figsize=(15,7))\n",
    "chart = sns.lineplot(\n",
    "    data=crime_type_per_month,\n",
    ")\n",
    "plt.xticks(\n",
    "    rotation=90, \n",
    "    horizontalalignment='right',\n",
    "    fontweight='light',\n",
    "    fontsize='x-large'  \n",
    ")\n",
    "plt.legend(bbox_to_anchor=(1.02, 1), loc='upper left', borderaxespad=0)"
   ]
  },
  {
   "cell_type": "markdown",
   "id": "0e9c3b86-7078-41c9-b3da-2401f03b93f8",
   "metadata": {},
   "source": [
    "# ...."
   ]
  },
  {
   "cell_type": "code",
   "execution_count": null,
   "id": "b32538ec-f94d-43ea-b5cd-1a7a339354c2",
   "metadata": {},
   "outputs": [],
   "source": [
    "def proportionCrimeCategory(data, discreteParam):\n",
    "    \"\"\"\n",
    "    Extracts proportion of Crimes in the data for the various values of discreteParam\n",
    "    :param data: input dataframe\n",
    "    :param discreteParam: name of column of dataframe \n",
    "    :return normedtable: Series\n",
    "            column 1 : index of month\n",
    "            column 2 : sum of crimes during this month/total numbers of crimes\n",
    "    \"\"\"\n",
    "    by_param = data.groupby([discreteParam, 'Crime type'])\n",
    "    #apllying .size() allows to extract number of instances for each Crime type by the offense in each discreteParam\n",
    "    table = by_param.size()\n",
    "    #puts it as a 2D table with number of occurences per discreteParam and Crimetype\n",
    "    d2table = table.unstack()\n",
    "    #d2table.sum(1) returns the number of crimes in all crimetypes per discreteParam\n",
    "    #1 is for the number of the axe on which the sum is done. Here :Crimetype\n",
    "    normedtable = d2table.div(d2table.sum(1), axis=0)\n",
    "    return normedtable\n",
    "    print(normedtable)\n",
    "    \n",
    "discreteParamList = ['Month', 'Borough']\n",
    "fig1, axes1 = plt.subplots(len(discreteParamList),1) #creates a 2x1 blank plot\n",
    "for i in range(len(discreteParamList)): #now we fill in the subplots\n",
    "    param = discreteParamList[i]\n",
    "    table = proportionCrimeCategory(borough_crimes_all, param)\n",
    "\n",
    "    ax = axes1[i]\n",
    "    #create plot title\n",
    "    ax.set_title(\"Categories of crime by %s\" % discreteParamList[i])\n",
    "    ax.title.set_fontsize(20)\n",
    "    #choose colormap (memo : looks ok : none, prism_r)\n",
    "    #stacked = true, allows to stack the different categories into one bar\n",
    "    table.plot(kind='barh', stacked=True, ax=axes1[i],figsize=(30,15), \n",
    "               colormap='tab20c')\n",
    "\n",
    "    #Puts legend only on second graph and pushes the legend out of plot\n",
    "    if i==1:\n",
    "        #how to move legends : http://matplotlib.org/examples/pylab_examples/legend_demo3.html\n",
    "        ax.legend(bbox_to_anchor=(1.12, 2))\n",
    "\n",
    "    else:\n",
    "        ax.legend_.remove()\n",
    "plt.show()\n",
    "# plt.savefig(\"input/proportions.pdf\",format=\"pdf\")"
   ]
  },
  {
   "cell_type": "code",
   "execution_count": null,
   "id": "dafccfe7-7914-47b2-95cf-c7e7e61c36a7",
   "metadata": {},
   "outputs": [],
   "source": [
    "import math\n",
    "mps_colp['crime_count']=1\n",
    "crime_alt = mps_colp[['Month', 'Longitude', 'Latitude', 'Borough', 'LSOA name','crime_count']].copy()\n",
    "crime_alt['year'] = pd.DatetimeIndex(crime_alt['Month']).year\n",
    "crime_alt['month'] = pd.DatetimeIndex(crime_alt['Month']).month\n",
    "\n",
    "\n",
    "crime_alt['Longitude'] = crime_alt['Longitude'].round(decimals=3)\n",
    "crime_alt['Latitude'] = crime_alt['Latitude'].round(decimals=3)\n",
    "\n",
    "# crime_alt[\"crimeactivity\"] = crime_alt.groupby([\"year\", \"month\", 'Latitude', 'Longitude'])[\"crime_count1\"].transform(\"size\") \n",
    "# crime_alt[\"crimeactivity\"] = crime_alt.groupby([\"year\", \"month\", 'Latitude', 'Longitude']).agg('sum')\n",
    "crime_alt = crime_alt.groupby([\"year\", \"month\", 'Latitude', 'Longitude'])[\"crime_count\"].sum()\n",
    "crime_alt = crime_alt.reset_index(drop=False)\n",
    "crime_alt = crime_alt.drop_duplicates([\"year\", \"month\", 'Latitude', 'Longitude']).reset_index(drop=True)\n",
    "crime_alt.head()\n"
   ]
  },
  {
   "cell_type": "code",
   "execution_count": null,
   "id": "609658f8-48d7-4cb1-b586-a1ce80ab56c9",
   "metadata": {},
   "outputs": [],
   "source": [
    "# crime_alt.groupby([\"Latitude\", \"Longitude\",'year', 'month']).crime_count1.size()"
   ]
  },
  {
   "cell_type": "code",
   "execution_count": null,
   "id": "f20e9b78-a90d-44fb-8ef9-1e85a56468a6",
   "metadata": {},
   "outputs": [],
   "source": [
    "crime_alt.info()"
   ]
  },
  {
   "cell_type": "code",
   "execution_count": null,
   "id": "c17636e6-efe3-4575-91de-99cf111f87f1",
   "metadata": {},
   "outputs": [],
   "source": [
    "from pyproj import Transformer\n",
    "transformer = Transformer.from_crs(\"epsg:4326\", \"EPSG:27700\")\n",
    "crime_alt['x']=crime_alt.apply(lambda row: transformer.transform(row['Latitude'],row['Longitude'])[0],axis=1)\n",
    "crime_alt['y']=crime_alt.apply(lambda row: transformer.transform(row['Latitude'],row['Longitude'])[1],axis=1)\n",
    "crime_alt.head(2)"
   ]
  },
  {
   "cell_type": "raw",
   "id": "e0f53b41-75fd-404e-9404-2702ddfea20f",
   "metadata": {},
   "source": [
    "crime_alt_group = crime_alt.copy()\n",
    "crime_alt_group[\"crimeactivity\"] = crime_alt_group.groupby([\"year\", \"month\"])[\"crimeactivity\"].transform(\"size\")\n",
    "crime_alt_group = crime_alt_group.reset_index(drop=True) \n",
    "crime_alt_group.head(2)"
   ]
  },
  {
   "cell_type": "code",
   "execution_count": null,
   "id": "43f145a2-af4b-47d4-9385-cc8892e4d204",
   "metadata": {},
   "outputs": [],
   "source": [
    "crime_alt.groupby(['x', 'y']).ngroups"
   ]
  },
  {
   "cell_type": "code",
   "execution_count": null,
   "id": "87529317-79bf-4e96-877f-ea78a395fd11",
   "metadata": {},
   "outputs": [],
   "source": [
    "crime_alt.info()"
   ]
  },
  {
   "cell_type": "code",
   "execution_count": null,
   "id": "cbc25e7d-2069-4bd4-9096-1b8e7b92d827",
   "metadata": {},
   "outputs": [],
   "source": [
    "alt.data_transformers.disable_max_rows()\n",
    "alt.Chart(crime_alt).mark_circle().encode(\n",
    "    #bin into half km squares\n",
    "    alt.X('x', axis=alt.Axis(labels=False),scale=alt.Scale(zero=False)),\n",
    "    alt.Y('y', axis=alt.Axis(labels=False),scale=alt.Scale(zero=False)),\n",
    "    alt.Color('sum(crime_count)',scale=alt.Scale(scheme='purples',domain=[0,20])),\n",
    "    column='month:Q',\n",
    "    row='year:Q',\n",
    "    tooltip=['sum(crime_count)']\n",
    ").properties(\n",
    "    width=100,\n",
    "    height=100\n",
    ")"
   ]
  },
  {
   "cell_type": "code",
   "execution_count": null,
   "id": "b22c8952-1840-46f9-9d42-e760819ff0ce",
   "metadata": {},
   "outputs": [],
   "source": [
    "alt.data_transformers.disable_max_rows()\n",
    "alt.Chart(crime_alt).mark_rect().encode(\n",
    "    #bin into half km squares\n",
    "    alt.X('x', bin=alt.Bin(step=1000,nice=True), axis=alt.Axis(labels=False)),\n",
    "    alt.Y('y', bin=alt.Bin(step=1000,nice=True), axis=alt.Axis(labels=False)),\n",
    "    alt.Color('sum(crime_count)',scale=alt.Scale(scheme='reds',domain=[0,300])),\n",
    "    column='month:Q',\n",
    "    row='year:Q',\n",
    "    tooltip=['sum(crime_count)']\n",
    ").properties(\n",
    "    width=100,\n",
    "    height=100\n",
    ")"
   ]
  },
  {
   "cell_type": "code",
   "execution_count": null,
   "id": "c498f1a8-b8e9-434e-97a4-979e5b09a8ff",
   "metadata": {},
   "outputs": [],
   "source": [
    "mps_colp['Month'] = pd.to_datetime(mps_colp['Month'])"
   ]
  },
  {
   "cell_type": "code",
   "execution_count": null,
   "id": "d39c9643-27b9-4ae3-9915-2c1259229ed7",
   "metadata": {},
   "outputs": [],
   "source": [
    "#import datetime\n",
    "\n",
    "activityByMonth=pd.DataFrame()\n",
    "#group by day and hour, summing the activity\n",
    "activityByMonth['crime_count']=mps_colp.groupby([mps_colp['Month'].dt.year,mps_colp['Month'].dt.month])['crime_count'].sum()\n",
    "\n",
    "#groupby puts the groups fields into a multilevel index, so we need to extract these and add as columns (and rename, because they are all originally given the name \"t\")\n",
    "activityByMonth.reset_index(level=1, inplace=True)\n",
    "activityByMonth.rename(columns={'Month': 'month'}, inplace=True)\n",
    "activityByMonth.reset_index(level=0, inplace=True)\n",
    "activityByMonth.rename(columns={'Month': 'year'}, inplace=True)\n",
    "\n",
    "#display\n",
    "activityByMonth.head()"
   ]
  },
  {
   "cell_type": "code",
   "execution_count": null,
   "id": "8203f5fb-6f7d-469e-ab75-c00adbae589f",
   "metadata": {},
   "outputs": [],
   "source": [
    "alt.Chart(activityByMonth).mark_line().encode(\n",
    "    x=alt.X('month:Q'),\n",
    "    y = alt.Y('crime_count:Q', scale=alt.Scale(domain=[70000, 120000])),\n",
    "    # y='crime_count:Q',\n",
    "    color='year:N',\n",
    ").properties(\n",
    "    width=600,\n",
    "    height=300\n",
    ")"
   ]
  },
  {
   "cell_type": "code",
   "execution_count": null,
   "id": "0c6b6c0c-be4a-4f88-86fc-d64db6bb137e",
   "metadata": {},
   "outputs": [],
   "source": []
  }
 ],
 "metadata": {
  "kernelspec": {
   "display_name": "Python 3 (ipykernel)",
   "language": "python",
   "name": "python3"
  },
  "language_info": {
   "codemirror_mode": {
    "name": "ipython",
    "version": 3
   },
   "file_extension": ".py",
   "mimetype": "text/x-python",
   "name": "python",
   "nbconvert_exporter": "python",
   "pygments_lexer": "ipython3",
   "version": "3.8.12"
  }
 },
 "nbformat": 4,
 "nbformat_minor": 5
}
